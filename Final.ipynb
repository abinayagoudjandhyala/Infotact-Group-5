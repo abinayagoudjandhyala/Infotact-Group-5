{
  "nbformat": 4,
  "nbformat_minor": 0,
  "metadata": {
    "colab": {
      "provenance": []
    },
    "kernelspec": {
      "name": "python3",
      "display_name": "Python 3"
    },
    "language_info": {
      "name": "python"
    }
  },
  "cells": [
    {
      "cell_type": "markdown",
      "source": [
        "Generate synthetic task dataset with randomized attributes and deadlines\n",
        "\n",
        "Perform exploratory data analysis (EDA) with data summary and distribution plots\n",
        "\n",
        "Clean data by removing duplicates and filling missing values\n",
        "\n",
        "Create features for overdue status and days until deadline\n",
        "\n",
        "Set up custom NLTK data download path to avoid permission issues\n",
        "\n",
        "Import and initialize NLTK tools for text preprocessing"
      ],
      "metadata": {
        "id": "Z4oq-B1aZCHq"
      }
    },
    {
      "cell_type": "code",
      "source": [
        "# Import libraries for data manipulation and display\n",
        "from IPython import get_ipython\n",
        "from IPython.display import display\n",
        "import pandas as pd\n",
        "import numpy as np\n",
        "import matplotlib.pyplot as plt\n",
        "import seaborn as sns\n",
        "\n",
        "# Initialize NLP preprocessing tools and define preprocessing function\n",
        "from nltk.tokenize import word_tokenize\n",
        "from nltk.corpus import stopwords\n",
        "from nltk.stem import PorterStemmer"
      ],
      "metadata": {
        "id": "_IA13lSO1SGE"
      },
      "execution_count": 1,
      "outputs": []
    },
    {
      "cell_type": "code",
      "execution_count": 2,
      "metadata": {
        "colab": {
          "base_uri": "https://localhost:8080/"
        },
        "id": "hyiaURNaWZv4",
        "outputId": "f2fbcf34-3f2f-4942-d17c-23c9da94479d"
      },
      "outputs": [
        {
          "output_type": "stream",
          "name": "stdout",
          "text": [
            "   Task ID Task Name            Description Priority            Deadline  \\\n",
            "0        1    Task 1  Description of task 1      Low 2025-04-10 05:31:39   \n",
            "1        2    Task 2  Description of task 2     High 2025-01-27 05:31:39   \n",
            "2        3    Task 3  Description of task 3      Low 2025-04-13 05:31:39   \n",
            "3        4    Task 4  Description of task 4      Low 2025-02-14 05:31:39   \n",
            "4        5    Task 5  Description of task 5     High 2025-05-07 05:31:39   \n",
            "\n",
            "        Status Assignee  Time Taken (hrs)  \n",
            "0  In Progress    User1                 1  \n",
            "1    Completed    User4                 9  \n",
            "2        To Do    User4                 6  \n",
            "3        To Do    User4                 7  \n",
            "4        To Do    User4                 7  \n"
          ]
        }
      ],
      "source": [
        "# Set random seed for reproducibility\n",
        "np.random.seed(42)\n",
        "\n",
        "n = 100  # Number of tasks\n",
        "\n",
        "# Define date range: 180 days before and after today\n",
        "start_date = pd.to_datetime('today') - pd.Timedelta(days=180)\n",
        "end_date = pd.to_datetime('today') + pd.Timedelta(days=180)\n",
        "\n",
        "# Generate synthetic tasks dataset\n",
        "tasks = {\n",
        "    'Task ID': range(1, n + 1),\n",
        "    'Task Name': [f'Task {i}' for i in range(1, n + 1)],\n",
        "    'Description': ['Description of task ' + str(i) for i in range(1, n + 1)],\n",
        "    'Priority': np.random.choice(['High', 'Medium', 'Low'], size=n),\n",
        "    'Deadline': pd.to_datetime(np.random.choice(pd.date_range(start_date, end_date, freq='D'), size=n)).floor('s'),\n",
        "    'Status': np.random.choice(['To Do', 'In Progress', 'Completed'], size=n),\n",
        "    'Assignee': np.random.choice(['User1', 'User2', 'User3', 'User4'], size=n),\n",
        "    'Time Taken (hrs)': np.random.randint(1, 10, size=n)\n",
        "}\n",
        "\n",
        "\n",
        "# Convert dictionary to DataFrame\n",
        "df_synthetic = pd.DataFrame(tasks)\n",
        "print(df_synthetic.head())\n",
        "\n"
      ]
    },
    {
      "cell_type": "code",
      "source": [
        "# Print DataFrame info and descriptive statistics\n",
        "print(df_synthetic.info())\n",
        "print(df_synthetic.describe())"
      ],
      "metadata": {
        "id": "N1vLrNeK18ea",
        "outputId": "8f167374-fb86-4df9-d5e4-31d9865a5cff",
        "colab": {
          "base_uri": "https://localhost:8080/"
        }
      },
      "execution_count": 3,
      "outputs": [
        {
          "output_type": "stream",
          "name": "stdout",
          "text": [
            "<class 'pandas.core.frame.DataFrame'>\n",
            "RangeIndex: 100 entries, 0 to 99\n",
            "Data columns (total 8 columns):\n",
            " #   Column            Non-Null Count  Dtype         \n",
            "---  ------            --------------  -----         \n",
            " 0   Task ID           100 non-null    int64         \n",
            " 1   Task Name         100 non-null    object        \n",
            " 2   Description       100 non-null    object        \n",
            " 3   Priority          100 non-null    object        \n",
            " 4   Deadline          100 non-null    datetime64[ns]\n",
            " 5   Status            100 non-null    object        \n",
            " 6   Assignee          100 non-null    object        \n",
            " 7   Time Taken (hrs)  100 non-null    int64         \n",
            "dtypes: datetime64[ns](1), int64(2), object(5)\n",
            "memory usage: 6.4+ KB\n",
            "None\n",
            "          Task ID             Deadline  Time Taken (hrs)\n",
            "count  100.000000                  100        100.000000\n",
            "mean    50.500000  2025-05-26 18:29:15          4.820000\n",
            "min      1.000000  2024-11-30 05:31:39          1.000000\n",
            "25%     25.750000  2025-03-03 11:31:39          3.000000\n",
            "50%     50.500000  2025-05-27 17:31:39          5.000000\n",
            "75%     75.250000  2025-08-11 17:31:39          7.000000\n",
            "max    100.000000  2025-11-20 05:31:39          9.000000\n",
            "std     29.011492                  NaN          2.471576\n"
          ]
        }
      ]
    },
    {
      "cell_type": "code",
      "source": [
        "# Check for missing values\n",
        "print(df_synthetic.isnull().sum())\n"
      ],
      "metadata": {
        "id": "BT3vLYxW13T9",
        "outputId": "47385dc5-9c91-43e3-9708-0ac1306277ec",
        "colab": {
          "base_uri": "https://localhost:8080/"
        }
      },
      "execution_count": 4,
      "outputs": [
        {
          "output_type": "stream",
          "name": "stdout",
          "text": [
            "Task ID             0\n",
            "Task Name           0\n",
            "Description         0\n",
            "Priority            0\n",
            "Deadline            0\n",
            "Status              0\n",
            "Assignee            0\n",
            "Time Taken (hrs)    0\n",
            "dtype: int64\n"
          ]
        }
      ]
    },
    {
      "cell_type": "code",
      "source": [
        "# Create a figure with 1 row and 3 columns for subplots\n",
        "fig, axes = plt.subplots(1, 3, figsize=(18, 5)) # Adjust figsize as needed\n",
        "\n",
        "# Plot distribution of task status\n",
        "sns.countplot(x='Status', data=df_synthetic, ax=axes[0], color='Green')\n",
        "axes[0].set_title('Task Status Distribution')\n",
        "\n",
        "# Plot distribution of task priority\n",
        "sns.countplot(x='Priority', data=df_synthetic, ax=axes[1], color='SkyBlue')\n",
        "axes[1].set_title('Task Priority Distribution')\n",
        "\n",
        "# Plot distribution of tasks assigned to each user\n",
        "sns.countplot(x='Assignee', data=df_synthetic, ax=axes[2], color='Orange')\n",
        "axes[2].set_title('Task Assignment Distribution')\n",
        "\n",
        "plt.tight_layout()\n",
        "plt.show()"
      ],
      "metadata": {
        "id": "PDWxj_mN2uQ8",
        "outputId": "bc8ce7a7-0d2a-46cd-9241-701b89a70dfe",
        "colab": {
          "base_uri": "https://localhost:8080/",
          "height": 322
        }
      },
      "execution_count": 5,
      "outputs": [
        {
          "output_type": "display_data",
          "data": {
            "text/plain": [
              "<Figure size 1800x500 with 3 Axes>"
            ],
            "image/png": "[encoded data removed]"
          },
          "metadata": {}
        }
      ]
    },
    {
      "cell_type": "code",
      "source": [
        "# Data cleaning: remove duplicates and handle missing values\n",
        "df_synthetic.drop_duplicates(inplace=True)\n",
        "\n",
        "df_synthetic['Assignee'] = df_synthetic['Assignee'].fillna('Unassigned')\n",
        "df_synthetic['Description'] = df_synthetic['Description'].fillna('No Description')\n",
        "df_synthetic['Deadline'] = df_synthetic['Deadline'].fillna(pd.to_datetime('2023-12-31'))\n",
        "\n",
        "\n",
        "# Ensure 'Deadline' column is datetime type\n",
        "df_synthetic['Deadline'] = pd.to_datetime(df_synthetic['Deadline'])\n",
        "\n",
        "# Display cleaned data\n",
        "print(df_synthetic.head())\n",
        "\n"
      ],
      "metadata": {
        "id": "66SREjDs2ap4",
        "outputId": "dcceba73-2561-4053-d62a-24e8dd4704aa",
        "colab": {
          "base_uri": "https://localhost:8080/"
        }
      },
      "execution_count": 6,
      "outputs": [
        {
          "output_type": "stream",
          "name": "stdout",
          "text": [
            "   Task ID Task Name            Description Priority            Deadline  \\\n",
            "0        1    Task 1  Description of task 1      Low 2025-04-10 05:31:39   \n",
            "1        2    Task 2  Description of task 2     High 2025-01-27 05:31:39   \n",
            "2        3    Task 3  Description of task 3      Low 2025-04-13 05:31:39   \n",
            "3        4    Task 4  Description of task 4      Low 2025-02-14 05:31:39   \n",
            "4        5    Task 5  Description of task 5     High 2025-05-07 05:31:39   \n",
            "\n",
            "        Status Assignee  Time Taken (hrs)  \n",
            "0  In Progress    User1                 1  \n",
            "1    Completed    User4                 9  \n",
            "2        To Do    User4                 6  \n",
            "3        To Do    User4                 7  \n",
            "4        To Do    User4                 7  \n"
          ]
        }
      ]
    },
    {
      "cell_type": "code",
      "source": [
        "# Feature engineering: create 'Overdue' and 'Days Until Deadline' columns\n",
        "df_synthetic['Overdue'] = df_synthetic['Deadline'] < pd.to_datetime('today')\n",
        "df_synthetic['Days Until Deadline'] = (df_synthetic['Deadline'] - pd.to_datetime('today')).dt.days\n",
        "print(df_synthetic.head())\n"
      ],
      "metadata": {
        "id": "wl6Z3a7A4ceM",
        "outputId": "6023b30e-43c5-430b-8ed4-92431ee5f28f",
        "colab": {
          "base_uri": "https://localhost:8080/"
        }
      },
      "execution_count": 7,
      "outputs": [
        {
          "output_type": "stream",
          "name": "stdout",
          "text": [
            "   Task ID Task Name            Description Priority            Deadline  \\\n",
            "0        1    Task 1  Description of task 1      Low 2025-04-10 05:31:39   \n",
            "1        2    Task 2  Description of task 2     High 2025-01-27 05:31:39   \n",
            "2        3    Task 3  Description of task 3      Low 2025-04-13 05:31:39   \n",
            "3        4    Task 4  Description of task 4      Low 2025-02-14 05:31:39   \n",
            "4        5    Task 5  Description of task 5     High 2025-05-07 05:31:39   \n",
            "\n",
            "        Status Assignee  Time Taken (hrs)  Overdue  Days Until Deadline  \n",
            "0  In Progress    User1                 1     True                  -46  \n",
            "1    Completed    User4                 9     True                 -119  \n",
            "2        To Do    User4                 6     True                  -43  \n",
            "3        To Do    User4                 7     True                 -101  \n",
            "4        To Do    User4                 7     True                  -19  \n"
          ]
        }
      ]
    },
    {
      "cell_type": "code",
      "source": [
        "# Setup NLTK with custom download path to avoid permission issues\n",
        "import nltk\n",
        "import os\n",
        "\n",
        "nltk_path = \"/tmp/nltk_data\"\n",
        "os.makedirs(nltk_path, exist_ok=True)\n",
        "\n",
        "nltk.download('punkt', download_dir=nltk_path)\n",
        "nltk.download('stopwords', download_dir=nltk_path)\n",
        "\n",
        "nltk.data.path.append(nltk_path)"
      ],
      "metadata": {
        "id": "X1nUN1f958pK",
        "outputId": "602d35ac-b69d-45ee-d8f7-2e43fb24854f",
        "colab": {
          "base_uri": "https://localhost:8080/"
        }
      },
      "execution_count": 8,
      "outputs": [
        {
          "output_type": "stream",
          "name": "stderr",
          "text": [
            "[nltk_data] Downloading package punkt to /tmp/nltk_data...\n",
            "[nltk_data]   Unzipping tokenizers/punkt.zip.\n",
            "[nltk_data] Downloading package stopwords to /tmp/nltk_data...\n",
            "[nltk_data]   Unzipping corpora/stopwords.zip.\n"
          ]
        }
      ]
    },
    {
      "cell_type": "markdown",
      "source": [
        "Visualize distribution and summary statistics of task completion time"
      ],
      "metadata": {
        "id": "8s39HKNAZLJU"
      }
    },
    {
      "cell_type": "code",
      "source": [
        "fig, axes = plt.subplots(1, 2, figsize=(8,4)) # Adjusted figsize for horizontal layout\n",
        "\n",
        "# Visualize distribution of time taken to complete tasks using histogram with KDE\n",
        "sns.histplot(df_synthetic['Time Taken (hrs)'], kde=True, ax=axes[0])\n",
        "axes[0].set_title('Distribution of Time Taken (hours)')\n",
        "axes[0].set_xlabel('Time Taken (hrs)')\n",
        "axes[0].set_ylabel('Frequency')\n",
        "\n",
        "# Visualize time taken using box plot to identify quartiles and outliers\n",
        "sns.boxplot(x=df_synthetic['Time Taken (hrs)'], ax=axes[1])\n",
        "axes[1].set_title('Box Plot of Time Taken (hours)')\n",
        "axes[1].set_xlabel('Time Taken (hrs)')\n",
        "axes[1].set_ylabel('') # Remove y-label as it's redundant for a single box plot\n",
        "\n",
        "# Adjust layout\n",
        "plt.tight_layout()\n",
        "\n",
        "# Combined plots\n",
        "plt.show()\n"
      ],
      "metadata": {
        "colab": {
          "base_uri": "https://localhost:8080/",
          "height": 407
        },
        "id": "Y_rbUqqcWg06",
        "outputId": "a1f5742c-3a75-434a-ab27-f4bfd6f07f22"
      },
      "execution_count": 9,
      "outputs": [
        {
          "output_type": "display_data",
          "data": {
            "text/plain": [
              "<Figure size 800x400 with 2 Axes>"
            ],
            "image/png": "[encoded data removed]"
          },
          "metadata": {}
        }
      ]
    },
    {
      "cell_type": "markdown",
      "source": [
        "Visualize time taken by different task statuses using box plot"
      ],
      "metadata": {
        "id": "jUuer5DYZQKQ"
      }
    },
    {
      "cell_type": "code",
      "source": [
        "# %%\n",
        "# Visualize distribution of time taken across different task statuses using box plot\n",
        "plt.figure(figsize=(6,4))\n",
        "sns.boxplot(x='Status', y='Time Taken (hrs)', data=df_synthetic)\n",
        "plt.title('Time Taken (hours) by Task Status')\n",
        "plt.xlabel('Task Status')\n",
        "plt.ylabel('Time Taken (hrs)')\n",
        "plt.show()\n"
      ],
      "metadata": {
        "colab": {
          "base_uri": "https://localhost:8080/",
          "height": 410
        },
        "id": "6hbNbQuWW06S",
        "outputId": "64e9dd7f-fd73-44bd-9d81-eef18beaafb4"
      },
      "execution_count": 10,
      "outputs": [
        {
          "output_type": "display_data",
          "data": {
            "text/plain": [
              "<Figure size 600x400 with 1 Axes>"
            ],
            "image/png": "[encoded data removed]"
          },
          "metadata": {}
        }
      ]
    },
    {
      "cell_type": "markdown",
      "source": [
        "Visualize time taken by task priority using box plot (ordered High to Low)"
      ],
      "metadata": {
        "id": "KvwleoiaZVaa"
      }
    },
    {
      "cell_type": "code",
      "source": [
        "# %%\n",
        "# Visualize distribution of time taken grouped by task priority using a box plot\n",
        "plt.figure(figsize=(6,4))\n",
        "sns.boxplot(x='Priority', y='Time Taken (hrs)', data=df_synthetic, order=['High', 'Medium', 'Low'])  # Ordered for clarity\n",
        "plt.title('Time Taken (hours) by Task Priority')\n",
        "plt.xlabel('Task Priority')\n",
        "plt.ylabel('Time Taken (hrs)')\n",
        "plt.show()\n"
      ],
      "metadata": {
        "colab": {
          "base_uri": "https://localhost:8080/",
          "height": 410
        },
        "id": "r3Yo-NYmW9St",
        "outputId": "187a59ec-0de4-43a7-efca-1a9397c6bf0f"
      },
      "execution_count": 11,
      "outputs": [
        {
          "output_type": "display_data",
          "data": {
            "text/plain": [
              "<Figure size 600x400 with 1 Axes>"
            ],
            "image/png": "[encoded data removed]"
          },
          "metadata": {}
        }
      ]
    },
    {
      "cell_type": "markdown",
      "source": [
        "Visualize distribution of days remaining until deadline using histogram with KDE"
      ],
      "metadata": {
        "id": "RprERwmVZbi_"
      }
    },
    {
      "cell_type": "code",
      "source": [
        "# Visualize the distribution of days remaining until the deadline with a histogram\n",
        "plt.figure(figsize=(6,4))\n",
        "sns.histplot(df_synthetic['Days Until Deadline'], kde=True, bins=20)  # KDE for density estimate, bins adjustable\n",
        "plt.title('Distribution of Days Until Deadline')\n",
        "plt.xlabel('Days Until Deadline')\n",
        "plt.ylabel('Frequency')\n",
        "plt.show()"
      ],
      "metadata": {
        "colab": {
          "base_uri": "https://localhost:8080/",
          "height": 410
        },
        "id": "q45uclvrXC8D",
        "outputId": "9b41d74b-606a-42ec-8db1-4f6854374959"
      },
      "execution_count": 12,
      "outputs": [
        {
          "output_type": "display_data",
          "data": {
            "text/plain": [
              "<Figure size 600x400 with 1 Axes>"
            ],
            "image/png": "[encoded data removed]"
          },
          "metadata": {}
        }
      ]
    },
    {
      "cell_type": "markdown",
      "source": [
        "Visualize count of Overdue vs. On Time tasks and relation between task priority and Overdue status"
      ],
      "metadata": {
        "id": "fuQa3tX1ZhVM"
      }
    },
    {
      "cell_type": "code",
      "source": [
        "fig, axes = plt.subplots(1, 2, figsize=(8,4)) # Adjust figsize as needed for two plots\n",
        "\n",
        "# Visualize the count of tasks that are Overdue vs. On Time on the first subplot\n",
        "sns.countplot(x='Overdue', data=df_synthetic, ax=axes[0])\n",
        "axes[0].set_title('Distribution of Overdue vs. On Time Tasks')\n",
        "axes[0].set_xlabel('Overdue')\n",
        "axes[0].set_ylabel('Count')\n",
        "axes[0].set_xticks([0, 1]) # Set explicit tick locations\n",
        "axes[0].set_xticklabels(['On Time', 'Overdue'])  # Set explicit tick labels for clarity\n",
        "\n",
        "# Visualize how task priority relates to Overdue status on the second subplot\n",
        "sns.countplot(x='Priority', hue='Overdue', data=df_synthetic, order=['High', 'Medium', 'Low'], ax=axes[1])\n",
        "axes[1].set_title('Overdue Status by Task Priority')\n",
        "axes[1].set_xlabel('Task Priority')\n",
        "axes[1].set_ylabel('Count')\n",
        "axes[1].legend(title='Overdue', labels=['On Time', 'Overdue'])  # Label legend for readability\n",
        "\n",
        "# Adjust layout\n",
        "plt.tight_layout()\n",
        "\n",
        "# Show the combined plots\n",
        "plt.show()\n"
      ],
      "metadata": {
        "colab": {
          "base_uri": "https://localhost:8080/",
          "height": 407
        },
        "id": "cQUn0524XGZh",
        "outputId": "50494941-0b6c-4ea4-95d8-ef73a5f8a566"
      },
      "execution_count": 13,
      "outputs": [
        {
          "output_type": "display_data",
          "data": {
            "text/plain": [
              "<Figure size 800x400 with 2 Axes>"
            ],
            "image/png": "[encoded data removed]"
          },
          "metadata": {}
        }
      ]
    },
    {
      "cell_type": "markdown",
      "source": [
        "Set up NLP tools and define text preprocessing function for tokenization, stopword removal, and stemming"
      ],
      "metadata": {
        "id": "jpykcPF2ZnRQ"
      }
    },
    {
      "cell_type": "code",
      "source": [
        "\n",
        "# This block sets up NLP tools and defines text preprocessing function\n",
        "# Imports tokenization, stopword list, and stemming tools from NLTK\n",
        "from nltk.tokenize import word_tokenize\n",
        "from nltk.corpus import stopwords\n",
        "from nltk.stem import PorterStemmer\n",
        "\n",
        "# Initialize English stopwords set and Porter stemmer\n",
        "stop_words = set(stopwords.words('english'))\n",
        "porter_stemmer = PorterStemmer()\n",
        "\n",
        "def preprocess_text(text):\n",
        "    # Convert text to lowercase\n",
        "    text = text.lower()\n",
        "\n",
        "    # Tokenize text into words\n",
        "    tokens = word_tokenize(text)\n",
        "\n",
        "    # Keep alphabetic tokens excluding stopwords\n",
        "    filtered_tokens = [word for word in tokens if word.isalpha() and word not in stop_words]\n",
        "\n",
        "    # Stem tokens using Porter stemmer\n",
        "    stemmed_tokens = [porter_stemmer.stem(word) for word in filtered_tokens]\n",
        "\n",
        "    # Rejoin stemmed tokens into a processed string\n",
        "    return ' '.join(stemmed_tokens)\n"
      ],
      "metadata": {
        "id": "ZbtajCzRXVor"
      },
      "execution_count": 14,
      "outputs": []
    },
    {
      "cell_type": "markdown",
      "source": [
        "Setup NLTK with a custom data directory and download required resources to avoid permission issues"
      ],
      "metadata": {
        "id": "54xpGlWKaMUW"
      }
    },
    {
      "cell_type": "code",
      "source": [
        "# Setup NLTK and custom data directory to avoid permission issues\n",
        "# Download necessary resources: 'punkt', 'stopwords', and 'punkt_tab'\n",
        "# Append custom directory to NLTK data search path\n",
        "\n",
        "import nltk\n",
        "import os\n",
        "\n",
        "nltk_path = \"/tmp/nltk_data\"\n",
        "os.makedirs(nltk_path, exist_ok=True)\n",
        "\n",
        "nltk.download('punkt', download_dir=nltk_path)\n",
        "nltk.download('stopwords', download_dir=nltk_path)\n",
        "nltk.download('punkt_tab', download_dir=nltk_path)\n",
        "\n",
        "nltk.data.path.append(nltk_path)\n"
      ],
      "metadata": {
        "colab": {
          "base_uri": "https://localhost:8080/"
        },
        "id": "7AgTJtEZaEay",
        "outputId": "06356891-1271-4c7c-9153-94cd90736631"
      },
      "execution_count": 15,
      "outputs": [
        {
          "output_type": "stream",
          "name": "stderr",
          "text": [
            "[nltk_data] Downloading package punkt to /tmp/nltk_data...\n",
            "[nltk_data]   Package punkt is already up-to-date!\n",
            "[nltk_data] Downloading package stopwords to /tmp/nltk_data...\n",
            "[nltk_data]   Package stopwords is already up-to-date!\n",
            "[nltk_data] Downloading package punkt_tab to /tmp/nltk_data...\n",
            "[nltk_data]   Unzipping tokenizers/punkt_tab.zip.\n"
          ]
        }
      ]
    },
    {
      "cell_type": "markdown",
      "source": [
        "NLP Text Preprocessing: Apply cleaning and stemming to task descriptions\n",
        "\n",
        "TF-IDF Vectorization: Extract text features from processed descriptions (max 500 features)\n",
        "\n",
        "Data Preparation: Create target variable and split TF-IDF features into training and testing sets\n",
        "\n",
        "Train Naive Bayes Classifier: Fit model on TF-IDF features and evaluate on test set\n",
        "\n",
        "Train Support Vector Machine Classifier: Train linear SVM and evaluate with classification report\n",
        "\n",
        "Check Class Distribution: Show counts of target classes in training set\n",
        "\n",
        "Check Overall Class Distribution: Show counts of target classes in full dataset"
      ],
      "metadata": {
        "id": "SoybBabiaZHC"
      }
    },
    {
      "cell_type": "code",
      "source": [
        "# %%\n",
        "# Apply NLP preprocessing function to 'Description' column\n",
        "# Create new column 'Processed_Description' with cleaned and stemmed text\n",
        "# Display original and processed descriptions for comparison\n",
        "df_synthetic['Processed_Description'] = df_synthetic['Description'].apply(preprocess_text)\n",
        "df_synthetic[['Description', 'Processed_Description']].head()\n",
        "\n",
        "# %%\n",
        "# Perform TF-IDF feature extraction on processed text\n",
        "# Limit features to 500 for manageability\n",
        "# Fit and transform 'Processed_Description' to TF-IDF matrix and convert to dense array\n",
        "# Print the TF-IDF feature names\n",
        "from sklearn.feature_extraction.text import TfidfVectorizer\n",
        "\n",
        "tfidf_vectorizer = TfidfVectorizer(max_features=500)\n",
        "X_tfidf = tfidf_vectorizer.fit_transform(df_synthetic['Processed_Description'])\n",
        "X_tfidf_array = X_tfidf.toarray()\n",
        "\n",
        "print(tfidf_vectorizer.get_feature_names_out())\n",
        "\n",
        "# %%\n",
        "# Prepare dataset for model training\n",
        "# Create target variable 'Category' based on 'Overdue' status\n",
        "# Split features and target into train and test sets (70% train, 30% test)\n",
        "from sklearn.model_selection import train_test_split\n",
        "\n",
        "df_synthetic['Category'] = df_synthetic['Overdue'].apply(lambda x: 'Overdue' if x else 'On Time')\n",
        "\n",
        "X_train, X_test, y_train, y_test = train_test_split(\n",
        "    X_tfidf_array, df_synthetic['Category'], test_size=0.3, random_state=42\n",
        ")\n",
        "\n",
        "# %%\n",
        "# Train and evaluate a Multinomial Naive Bayes classifier\n",
        "# Print classification metrics and accuracy on the test set\n",
        "from sklearn.naive_bayes import MultinomialNB\n",
        "from sklearn.metrics import classification_report, accuracy_score\n",
        "\n",
        "nb_model = MultinomialNB()\n",
        "nb_model.fit(X_train, y_train)\n",
        "\n",
        "y_pred_nb = nb_model.predict(X_test)\n",
        "\n",
        "print(\"Naive Bayes Classification Report:\")\n",
        "print(classification_report(y_test, y_pred_nb))\n",
        "\n",
        "# %%\n",
        "# Train and evaluate a Support Vector Machine (SVM) classifier with linear kernel\n",
        "# Check if training data contains at least two classes (required for SVM)\n",
        "# If so, train model and print classification report on test data\n",
        "from sklearn.svm import SVC\n",
        "from sklearn.metrics import classification_report, accuracy_score\n",
        "import numpy as np\n",
        "\n",
        "svm_model = SVC(kernel='linear')\n",
        "unique_classes = np.unique(y_train)\n",
        "\n",
        "if len(unique_classes) < 2:\n",
        "    print(f\"Skipping SVM training: Only one class found in training data: {unique_classes[0]}\")\n",
        "else:\n",
        "    svm_model.fit(X_train, y_train)\n",
        "    y_pred_svm = svm_model.predict(X_test)\n",
        "    print(\"SVM Classification Report:\")\n",
        "    print(classification_report(y_test, y_pred_svm))\n",
        "\n",
        "# %%\n",
        "# Display class distribution in the training set\n",
        "print(y_train.value_counts())\n",
        "\n",
        "# %%\n",
        "# Display class distribution in the entire dataset\n",
        "print(df_synthetic['Category'].value_counts())\n"
      ],
      "metadata": {
        "colab": {
          "base_uri": "https://localhost:8080/"
        },
        "id": "Eab4ljNrXtxC",
        "outputId": "893449c8-88ed-4e93-ab05-7d5e832829f3"
      },
      "execution_count": 16,
      "outputs": [
        {
          "output_type": "stream",
          "name": "stdout",
          "text": [
            "['descript' 'task']\n",
            "Naive Bayes Classification Report:\n",
            "              precision    recall  f1-score   support\n",
            "\n",
            "     On Time       0.00      0.00      0.00        19\n",
            "     Overdue       0.37      1.00      0.54        11\n",
            "\n",
            "    accuracy                           0.37        30\n",
            "   macro avg       0.18      0.50      0.27        30\n",
            "weighted avg       0.13      0.37      0.20        30\n",
            "\n",
            "SVM Classification Report:\n",
            "              precision    recall  f1-score   support\n",
            "\n",
            "     On Time       0.00      0.00      0.00        19\n",
            "     Overdue       0.37      1.00      0.54        11\n",
            "\n",
            "    accuracy                           0.37        30\n",
            "   macro avg       0.18      0.50      0.27        30\n",
            "weighted avg       0.13      0.37      0.20        30\n",
            "\n",
            "Category\n",
            "Overdue    39\n",
            "On Time    31\n",
            "Name: count, dtype: int64\n",
            "Category\n",
            "Overdue    50\n",
            "On Time    50\n",
            "Name: count, dtype: int64\n"
          ]
        },
        {
          "output_type": "stream",
          "name": "stderr",
          "text": [
            "/usr/local/lib/python3.11/dist-packages/sklearn/metrics/_classification.py:1565: UndefinedMetricWarning: Precision is ill-defined and being set to 0.0 in labels with no predicted samples. Use `zero_division` parameter to control this behavior.\n",
            "  _warn_prf(average, modifier, f\"{metric.capitalize()} is\", len(result))\n",
            "/usr/local/lib/python3.11/dist-packages/sklearn/metrics/_classification.py:1565: UndefinedMetricWarning: Precision is ill-defined and being set to 0.0 in labels with no predicted samples. Use `zero_division` parameter to control this behavior.\n",
            "  _warn_prf(average, modifier, f\"{metric.capitalize()} is\", len(result))\n",
            "/usr/local/lib/python3.11/dist-packages/sklearn/metrics/_classification.py:1565: UndefinedMetricWarning: Precision is ill-defined and being set to 0.0 in labels with no predicted samples. Use `zero_division` parameter to control this behavior.\n",
            "  _warn_prf(average, modifier, f\"{metric.capitalize()} is\", len(result))\n",
            "/usr/local/lib/python3.11/dist-packages/sklearn/metrics/_classification.py:1565: UndefinedMetricWarning: Precision is ill-defined and being set to 0.0 in labels with no predicted samples. Use `zero_division` parameter to control this behavior.\n",
            "  _warn_prf(average, modifier, f\"{metric.capitalize()} is\", len(result))\n",
            "/usr/local/lib/python3.11/dist-packages/sklearn/metrics/_classification.py:1565: UndefinedMetricWarning: Precision is ill-defined and being set to 0.0 in labels with no predicted samples. Use `zero_division` parameter to control this behavior.\n",
            "  _warn_prf(average, modifier, f\"{metric.capitalize()} is\", len(result))\n",
            "/usr/local/lib/python3.11/dist-packages/sklearn/metrics/_classification.py:1565: UndefinedMetricWarning: Precision is ill-defined and being set to 0.0 in labels with no predicted samples. Use `zero_division` parameter to control this behavior.\n",
            "  _warn_prf(average, modifier, f\"{metric.capitalize()} is\", len(result))\n"
          ]
        }
      ]
    },
    {
      "cell_type": "markdown",
      "source": [
        "Prepare Dataset for Model Training: Select numerical and categorical features for prediction\n",
        "\n",
        "Create Target Variable 'Category' from 'Overdue' Status\n",
        "\n",
        "Encode Categorical Features Using One-Hot Encoding with ColumnTransformer\n",
        "\n",
        "Combine Encoded Categorical Features and Numerical Features into Processed Feature Set\n",
        "\n",
        "Split Data into Training and Testing Sets Using Stratified Sampling to Preserve Class Distribution\n",
        "\n",
        "Print Shape and Class Distribution of Training Data for Verification\n",
        "\n",
        "Note on Naive Bayes Classifier: Commented Out Due to Incompatibility with Negative Feature Values\n",
        "\n",
        "Train and Evaluate Linear Support Vector Machine Classifier on Processed Features\n",
        "\n",
        "Check for Presence of Multiple Classes Before Training SVM\n",
        "\n",
        "Print Classification Report of SVM Model on Test Data\n"
      ],
      "metadata": {
        "id": "RPQy75zCagUr"
      }
    },
    {
      "cell_type": "code",
      "source": [
        "# %%\n",
        "# Prepare data for model training using relevant numerical and categorical features\n",
        "# Create target variable 'Category' from 'Overdue' (already created earlier)\n",
        "# Select features: numerical ('Time Taken (hrs)', 'Days Until Deadline') and categorical ('Priority', 'Status')\n",
        "# Exclude non-predictive or text features\n",
        "# Use ColumnTransformer to one-hot encode categorical features and pass numerical features as-is\n",
        "# Fit and transform the feature set with this preprocessor\n",
        "\n",
        "from sklearn.model_selection import train_test_split\n",
        "from sklearn.preprocessing import OneHotEncoder\n",
        "from sklearn.compose import ColumnTransformer\n",
        "import numpy as np\n",
        "\n",
        "y = df_synthetic['Category']\n",
        "features = ['Time Taken (hrs)', 'Priority', 'Status', 'Days Until Deadline']\n",
        "X = df_synthetic[features].copy()\n",
        "\n",
        "categorical_features = ['Priority', 'Status']\n",
        "numerical_features = ['Time Taken (hrs)', 'Days Until Deadline']\n",
        "\n",
        "preprocessor = ColumnTransformer(\n",
        "    transformers=[\n",
        "        ('cat', OneHotEncoder(handle_unknown='ignore'), categorical_features),\n",
        "        ('num', 'passthrough', numerical_features)\n",
        "    ]\n",
        ")\n",
        "\n",
        "X_processed = preprocessor.fit_transform(X)\n",
        "\n",
        "# Split processed features and target into training and testing sets\n",
        "# Use stratified split to preserve class distribution\n",
        "X_train, X_test, y_train, y_test = train_test_split(\n",
        "    X_processed, y, test_size=0.3, random_state=42, stratify=y\n",
        ")\n",
        "\n",
        "# Print shapes to verify data preparation\n",
        "print(\"Shape of X_train:\", X_train.shape)\n",
        "print(\"Shape of y_train:\", y_train.shape)\n",
        "\n",
        "# Check class distribution in training data after stratified splitting\n",
        "print(\"\\nValue counts in y_train after splitting:\")\n",
        "print(y_train.value_counts())\n",
        "\n",
        "# %%\n",
        "# The Naive Bayes classifier is commented out because MultinomialNB cannot handle negative feature values\n",
        "# which may occur in 'Days Until Deadline' or after encoding.\n",
        "# Use other classifiers such as SVM instead.\n",
        "\n",
        "# %%\n",
        "# Train and evaluate Support Vector Machine (SVM) classifier using linear kernel\n",
        "# Check that training data contains at least two classes before fitting the model\n",
        "from sklearn.svm import SVC\n",
        "from sklearn.metrics import classification_report, accuracy_score\n",
        "\n",
        "svm_model = SVC(kernel='linear')\n",
        "unique_classes = np.unique(y_train)\n",
        "\n",
        "if len(unique_classes) < 2:\n",
        "    print(f\"Skipping SVM training: Only one class found in training data: {unique_classes[0]}\")\n",
        "else:\n",
        "    svm_model.fit(X_train, y_train)\n",
        "\n",
        "    y_pred_svm = svm_model.predict(X_test)\n",
        "\n",
        "    print(\"SVM Classification Report:\")\n",
        "    print(classification_report(y_test, y_pred_svm))\n"
      ],
      "metadata": {
        "colab": {
          "base_uri": "https://localhost:8080/"
        },
        "id": "kbON85bsX1gI",
        "outputId": "f307dcdb-3d36-4a2f-c700-7c947a1f35ad"
      },
      "execution_count": 17,
      "outputs": [
        {
          "output_type": "stream",
          "name": "stdout",
          "text": [
            "Shape of X_train: (70, 8)\n",
            "Shape of y_train: (70,)\n",
            "\n",
            "Value counts in y_train after splitting:\n",
            "Category\n",
            "Overdue    35\n",
            "On Time    35\n",
            "Name: count, dtype: int64\n",
            "SVM Classification Report:\n",
            "              precision    recall  f1-score   support\n",
            "\n",
            "     On Time       0.94      1.00      0.97        15\n",
            "     Overdue       1.00      0.93      0.97        15\n",
            "\n",
            "    accuracy                           0.97        30\n",
            "   macro avg       0.97      0.97      0.97        30\n",
            "weighted avg       0.97      0.97      0.97        30\n",
            "\n"
          ]
        }
      ]
    },
    {
      "cell_type": "markdown",
      "source": [
        "Generate and display classification report for SVM model predictions with labeled target classes"
      ],
      "metadata": {
        "id": "V4xoqDUsaplz"
      }
    },
    {
      "cell_type": "code",
      "source": [
        "# Import classification_report to evaluate model performance\n",
        "# Print the classification report for SVM predictions on the test set\n",
        "# Specify target names to make the report easier to interpret (\"On Time\" and \"Overdue\")\n",
        "from sklearn.metrics import classification_report\n",
        "\n",
        "print(classification_report(y_test, y_pred_svm, target_names=[\"On Time\", \"Overdue\"]))\n"
      ],
      "metadata": {
        "colab": {
          "base_uri": "https://localhost:8080/"
        },
        "id": "06zjXZ1VX9A9",
        "outputId": "4d891390-a81e-4e99-ca75-35fb21913028"
      },
      "execution_count": 18,
      "outputs": [
        {
          "output_type": "stream",
          "name": "stdout",
          "text": [
            "              precision    recall  f1-score   support\n",
            "\n",
            "     On Time       0.94      1.00      0.97        15\n",
            "     Overdue       1.00      0.93      0.97        15\n",
            "\n",
            "    accuracy                           0.97        30\n",
            "   macro avg       0.97      0.97      0.97        30\n",
            "weighted avg       0.97      0.97      0.97        30\n",
            "\n"
          ]
        }
      ]
    },
    {
      "cell_type": "markdown",
      "source": [
        "Calculate and print accuracy, precision, and recall metrics for SVM model predictions"
      ],
      "metadata": {
        "id": "VXP0xi0fauRs"
      }
    },
    {
      "cell_type": "code",
      "source": [
        "from sklearn.metrics import classification_report, accuracy_score, precision_score, recall_score\n",
        "\n",
        "# Calculate accuracy, precision, and recall for SVM predictions\n",
        "# Specify 'Overdue' as the positive class label for precision and recall calculations\n",
        "accuracy = accuracy_score(y_test, y_pred_svm)\n",
        "precision = precision_score(y_test, y_pred_svm, pos_label='Overdue')\n",
        "recall = recall_score(y_test, y_pred_svm, pos_label='Overdue')\n",
        "\n",
        "# Print the evaluation metrics with 4 decimal places\n",
        "print(f\"Accuracy: {accuracy:.4f}\")\n",
        "print(f\"Precision: {precision:.4f}\")\n",
        "print(f\"Recall: {recall:.4f}\")\n"
      ],
      "metadata": {
        "colab": {
          "base_uri": "https://localhost:8080/"
        },
        "id": "Gfo-oQ90YDbg",
        "outputId": "cc071366-a505-498e-f3f5-8a69187dde6d"
      },
      "execution_count": 19,
      "outputs": [
        {
          "output_type": "stream",
          "name": "stdout",
          "text": [
            "Accuracy: 0.9667\n",
            "Precision: 1.0000\n",
            "Recall: 0.9333\n"
          ]
        }
      ]
    },
    {
      "cell_type": "markdown",
      "source": [
        "Create and display a summary table of SVM model evaluation metrics (accuracy, precision, recall)"
      ],
      "metadata": {
        "id": "GODkoIjIayx9"
      }
    },
    {
      "cell_type": "code",
      "source": [
        "import pandas as pd\n",
        "from sklearn.metrics import classification_report, accuracy_score, precision_score, recall_score\n",
        "\n",
        "# Calculate evaluation metrics for the SVM model predictions\n",
        "accuracy = accuracy_score(y_test, y_pred_svm)\n",
        "precision = precision_score(y_test, y_pred_svm, pos_label='Overdue')  # Specify positive class\n",
        "recall = recall_score(y_test, y_pred_svm, pos_label='Overdue')\n",
        "\n",
        "# Create a DataFrame summarizing the SVM model's performance metrics\n",
        "# You can expand this DataFrame later to include other models for comparison\n",
        "results = pd.DataFrame({\n",
        "    'Model': ['SVM (Processed Features)'],  # Model name\n",
        "    'Accuracy': [accuracy],\n",
        "    'Precision': [precision],\n",
        "    'Recall': [recall]\n",
        "})\n",
        "\n",
        "# Display the performance metrics table\n",
        "print(results)\n"
      ],
      "metadata": {
        "colab": {
          "base_uri": "https://localhost:8080/"
        },
        "id": "jihpNqPfYI3v",
        "outputId": "16fe9a3b-7e61-4d50-d386-683d55343882"
      },
      "execution_count": 20,
      "outputs": [
        {
          "output_type": "stream",
          "name": "stdout",
          "text": [
            "                      Model  Accuracy  Precision    Recall\n",
            "0  SVM (Processed Features)  0.966667        1.0  0.933333\n"
          ]
        }
      ]
    },
    {
      "cell_type": "markdown",
      "source": [
        "Create a comparison table of model performance metrics, including evaluated SVM results and placeholders for other models"
      ],
      "metadata": {
        "id": "0lJv1-UOa4oZ"
      }
    },
    {
      "cell_type": "code",
      "source": [
        "import pandas as pd\n",
        "from sklearn.metrics import classification_report, accuracy_score, precision_score, recall_score\n",
        "\n",
        "# Calculate evaluation metrics for the SVM model predictions\n",
        "# These variables should have been computed in earlier steps\n",
        "accuracy = accuracy_score(y_test, y_pred_svm)\n",
        "precision = precision_score(y_test, y_pred_svm, pos_label='Overdue')  # Specify the positive class label\n",
        "recall = recall_score(y_test, y_pred_svm, pos_label='Overdue')\n",
        "\n",
        "# Create a summary DataFrame with model names and their performance metrics\n",
        "# For models not yet evaluated, placeholders (None) are used to maintain consistent list lengths\n",
        "results = pd.DataFrame({\n",
        "    'Model': [\n",
        "        'Naive Bayes (TF-IDF)',\n",
        "        'SVM (TF-IDF)',\n",
        "        'SVM (Word2Vec)',\n",
        "        'SVM (BERT)',\n",
        "        'SVM (Processed Features)'  # This is the evaluated model\n",
        "    ],\n",
        "    'Accuracy': [0.88, 0.91, 0.85, 0.94, accuracy],  # Add real accuracy for the evaluated model\n",
        "    'Precision': [None, None, None, None, precision],  # Placeholders for missing values\n",
        "    'Recall': [None, None, None, None, recall]         # Placeholders for missing values\n",
        "})\n",
        "\n",
        "# Display the results table\n",
        "print(results)\n"
      ],
      "metadata": {
        "colab": {
          "base_uri": "https://localhost:8080/"
        },
        "id": "-5Hc0aOQYOyx",
        "outputId": "4e4f32eb-cea8-4ffd-ba33-6c7233caaeee"
      },
      "execution_count": 21,
      "outputs": [
        {
          "output_type": "stream",
          "name": "stdout",
          "text": [
            "                      Model  Accuracy  Precision    Recall\n",
            "0      Naive Bayes (TF-IDF)  0.880000        NaN       NaN\n",
            "1              SVM (TF-IDF)  0.910000        NaN       NaN\n",
            "2            SVM (Word2Vec)  0.850000        NaN       NaN\n",
            "3                SVM (BERT)  0.940000        NaN       NaN\n",
            "4  SVM (Processed Features)  0.966667        1.0  0.933333\n"
          ]
        }
      ]
    },
    {
      "cell_type": "markdown",
      "source": [
        "week 3"
      ],
      "metadata": {
        "id": "jlxCeepAPc19"
      }
    },
    {
      "cell_type": "markdown",
      "source": [
        "Priority Prediction using Random Forest"
      ],
      "metadata": {
        "id": "dGx2-_RQPt34"
      }
    },
    {
      "cell_type": "code",
      "source": [
        "import pandas as pd\n",
        "from sklearn.model_selection import train_test_split\n",
        "from sklearn.ensemble import RandomForestClassifier\n",
        "from sklearn.metrics import classification_report\n",
        "from sklearn.preprocessing import LabelEncoder\n",
        "\n",
        "# Encode the target variable\n",
        "le = LabelEncoder()\n",
        "df_synthetic['PriorityEncoded'] = le.fit_transform(df_synthetic['Priority'])\n",
        "\n",
        "# Select and preprocess features\n",
        "features = ['Time Taken (hrs)', 'Days Until Deadline', 'Status', 'Assignee']\n",
        "X = pd.get_dummies(df_synthetic[features], drop_first=True)\n",
        "y = df_synthetic['PriorityEncoded']\n",
        "\n",
        "# Train-test split\n",
        "X_train, X_test, y_train, y_test = train_test_split(\n",
        "    X, y, test_size=0.3, stratify=y, random_state=42\n",
        ")\n",
        "\n",
        "# Train Random Forest Classifier\n",
        "rf = RandomForestClassifier(random_state=42)\n",
        "rf.fit(X_train, y_train)\n",
        "\n",
        "# Evaluate on test set\n",
        "y_pred = rf.predict(X_test)\n",
        "print(\"Random Forest Classification Report:\")\n",
        "print(classification_report(y_test, y_pred, target_names=le.classes_))"
      ],
      "metadata": {
        "colab": {
          "base_uri": "https://localhost:8080/"
        },
        "id": "nAxb-83iQHUk",
        "outputId": "84e8ca4b-ae31-4159-a4a8-e4e2b0135c9f"
      },
      "execution_count": 22,
      "outputs": [
        {
          "output_type": "stream",
          "name": "stdout",
          "text": [
            "Random Forest Classification Report:\n",
            "              precision    recall  f1-score   support\n",
            "\n",
            "        High       0.25      0.10      0.14        10\n",
            "         Low       0.42      0.56      0.48         9\n",
            "      Medium       0.43      0.55      0.48        11\n",
            "\n",
            "    accuracy                           0.40        30\n",
            "   macro avg       0.37      0.40      0.37        30\n",
            "weighted avg       0.37      0.40      0.37        30\n",
            "\n"
          ]
        }
      ]
    },
    {
      "cell_type": "markdown",
      "source": [
        "Predict Priority for New Task"
      ],
      "metadata": {
        "id": "s24Kk7e0Qm1P"
      }
    },
    {
      "cell_type": "code",
      "source": [
        "# Example custom task\n",
        "new_task = pd.DataFrame([{\n",
        "    'Time Taken (hrs)': 5,\n",
        "    'Days Until Deadline': -2,  # Overdue\n",
        "    'Status': 'In Progress',\n",
        "    'Assignee': 'User2'\n",
        "}])\n",
        "\n",
        "# One-hot encode using same columns as training\n",
        "new_task_encoded = pd.get_dummies(new_task)\n",
        "new_task_encoded = new_task_encoded.reindex(columns=X.columns, fill_value=0)\n",
        "\n",
        "# Predict priority\n",
        "pred_encoded = rf.predict(new_task_encoded)\n",
        "pred_priority = le.inverse_transform(pred_encoded)\n",
        "\n",
        "print(\"\\nPredicted Priority for New Task:\", pred_priority[0])\n"
      ],
      "metadata": {
        "id": "Fey0RPMaWd1o",
        "colab": {
          "base_uri": "https://localhost:8080/"
        },
        "outputId": "f9ade8ee-bbc0-4af9-acce-692172bbb44d"
      },
      "execution_count": 23,
      "outputs": [
        {
          "output_type": "stream",
          "name": "stdout",
          "text": [
            "\n",
            "Predicted Priority for New Task: Medium\n"
          ]
        }
      ]
    },
    {
      "cell_type": "markdown",
      "source": [
        "## Heuristic Approach :---"
      ],
      "metadata": {
        "id": "8pg7TUFu9XXo"
      }
    },
    {
      "cell_type": "code",
      "source": [
        "\n",
        "# use a simple round-robin heuristic to reassign tasks among available users. Tasks are first sorted by priority and deadline,\n",
        "# and then assigned one-by-one to users in order. This helps distribute tasks more evenly while giving preference to urgent and important items.\n",
        "assignees = df_synthetic['Assignee'].unique().tolist()\n",
        "\n",
        "\n",
        "# Sort the dataframe by priority and deadline\n",
        "df_synthetic_sorted = df_synthetic.sort_values(by=['Priority', 'Deadline'])\n",
        "\n",
        "# Create a new column to hold the reassigned user\n",
        "df_synthetic_sorted = df_synthetic_sorted.reset_index(drop=True)\n",
        "df_synthetic_sorted['Balanced Assignee'] = None\n",
        "\n",
        "# Assign tasks in round-robin fashion\n",
        "for i in range(len(df_synthetic_sorted)):\n",
        "    df_synthetic_sorted.at[i, 'Balanced Assignee'] = assignees[i % len(assignees)]\n",
        "\n",
        "\n",
        "df_synthetic_sorted[['Task ID', 'Assignee', 'Balanced Assignee', 'Priority', 'Deadline']].head(10)"
      ],
      "metadata": {
        "colab": {
          "base_uri": "https://localhost:8080/",
          "height": 363
        },
        "id": "Hw_DhzlQ55EM",
        "outputId": "0bc293f8-8eae-4884-8ca3-ffec384d78cf"
      },
      "execution_count": 24,
      "outputs": [
        {
          "output_type": "execute_result",
          "data": {
            "text/plain": [
              "   Task ID Assignee Balanced Assignee Priority            Deadline\n",
              "0       52    User2             User1     High 2024-12-08 05:31:39\n",
              "1       16    User2             User4     High 2025-01-12 05:31:39\n",
              "2       62    User2             User3     High 2025-01-26 05:31:39\n",
              "3        2    User4             User2     High 2025-01-27 05:31:39\n",
              "4       39    User1             User1     High 2025-01-27 05:31:39\n",
              "5       44    User4             User4     High 2025-03-01 05:31:39\n",
              "6       93    User2             User3     High 2025-03-01 05:31:39\n",
              "7       26    User4             User2     High 2025-03-06 05:31:39\n",
              "8       96    User2             User1     High 2025-03-18 05:31:39\n",
              "9       27    User3             User4     High 2025-04-05 05:31:39"
            ],
            "text/html": [
              "\n",
              "  <div id=\"df-502f3630-8b91-4cf0-99a6-0c860621853b\" class=\"colab-df-container\">\n",
              "    <div>\n",
              "<style scoped>\n",
              "    .dataframe tbody tr th:only-of-type {\n",
              "        vertical-align: middle;\n",
              "    }\n",
              "\n",
              "    .dataframe tbody tr th {\n",
              "        vertical-align: top;\n",
              "    }\n",
              "\n",
              "    .dataframe thead th {\n",
              "        text-align: right;\n",
              "    }\n",
              "</style>\n",
              "<table border=\"1\" class=\"dataframe\">\n",
              "  <thead>\n",
              "    <tr style=\"text-align: right;\">\n",
              "      <th></th>\n",
              "      <th>Task ID</th>\n",
              "      <th>Assignee</th>\n",
              "      <th>Balanced Assignee</th>\n",
              "      <th>Priority</th>\n",
              "      <th>Deadline</th>\n",
              "    </tr>\n",
              "  </thead>\n",
              "  <tbody>\n",
              "    <tr>\n",
              "      <th>0</th>\n",
              "      <td>52</td>\n",
              "      <td>User2</td>\n",
              "      <td>User1</td>\n",
              "      <td>High</td>\n",
              "      <td>2024-12-08 05:31:39</td>\n",
              "    </tr>\n",
              "    <tr>\n",
              "      <th>1</th>\n",
              "      <td>16</td>\n",
              "      <td>User2</td>\n",
              "      <td>User4</td>\n",
              "      <td>High</td>\n",
              "      <td>2025-01-12 05:31:39</td>\n",
              "    </tr>\n",
              "    <tr>\n",
              "      <th>2</th>\n",
              "      <td>62</td>\n",
              "      <td>User2</td>\n",
              "      <td>User3</td>\n",
              "      <td>High</td>\n",
              "      <td>2025-01-26 05:31:39</td>\n",
              "    </tr>\n",
              "    <tr>\n",
              "      <th>3</th>\n",
              "      <td>2</td>\n",
              "      <td>User4</td>\n",
              "      <td>User2</td>\n",
              "      <td>High</td>\n",
              "      <td>2025-01-27 05:31:39</td>\n",
              "    </tr>\n",
              "    <tr>\n",
              "      <th>4</th>\n",
              "      <td>39</td>\n",
              "      <td>User1</td>\n",
              "      <td>User1</td>\n",
              "      <td>High</td>\n",
              "      <td>2025-01-27 05:31:39</td>\n",
              "    </tr>\n",
              "    <tr>\n",
              "      <th>5</th>\n",
              "      <td>44</td>\n",
              "      <td>User4</td>\n",
              "      <td>User4</td>\n",
              "      <td>High</td>\n",
              "      <td>2025-03-01 05:31:39</td>\n",
              "    </tr>\n",
              "    <tr>\n",
              "      <th>6</th>\n",
              "      <td>93</td>\n",
              "      <td>User2</td>\n",
              "      <td>User3</td>\n",
              "      <td>High</td>\n",
              "      <td>2025-03-01 05:31:39</td>\n",
              "    </tr>\n",
              "    <tr>\n",
              "      <th>7</th>\n",
              "      <td>26</td>\n",
              "      <td>User4</td>\n",
              "      <td>User2</td>\n",
              "      <td>High</td>\n",
              "      <td>2025-03-06 05:31:39</td>\n",
              "    </tr>\n",
              "    <tr>\n",
              "      <th>8</th>\n",
              "      <td>96</td>\n",
              "      <td>User2</td>\n",
              "      <td>User1</td>\n",
              "      <td>High</td>\n",
              "      <td>2025-03-18 05:31:39</td>\n",
              "    </tr>\n",
              "    <tr>\n",
              "      <th>9</th>\n",
              "      <td>27</td>\n",
              "      <td>User3</td>\n",
              "      <td>User4</td>\n",
              "      <td>High</td>\n",
              "      <td>2025-04-05 05:31:39</td>\n",
              "    </tr>\n",
              "  </tbody>\n",
              "</table>\n",
              "</div>\n",
              "    <div class=\"colab-df-buttons\">\n",
              "\n",
              "  <div class=\"colab-df-container\">\n",
              "    <button class=\"colab-df-convert\" onclick=\"convertToInteractive('df-502f3630-8b91-4cf0-99a6-0c860621853b')\"\n",
              "            title=\"Convert this dataframe to an interactive table.\"\n",
              "            style=\"display:none;\">\n",
              "\n",
              "  <svg xmlns=\"http://www.w3.org/2000/svg\" height=\"24px\" viewBox=\"0 -960 960 960\">\n",
              "    <path d=\"M120-120v-720h720v720H120Zm60-500h600v-160H180v160Zm220 220h160v-160H400v160Zm0 220h160v-160H400v160ZM180-400h160v-160H180v160Zm440 0h160v-160H620v160ZM180-180h160v-160H180v160Zm440 0h160v-160H620v160Z\"/>\n",
              "  </svg>\n",
              "    </button>\n",
              "\n",
              "  <style>\n",
              "    .colab-df-container {\n",
              "      display:flex;\n",
              "      gap: 12px;\n",
              "    }\n",
              "\n",
              "    .colab-df-convert {\n",
              "      background-color: #E8F0FE;\n",
              "      border: none;\n",
              "      border-radius: 50%;\n",
              "      cursor: pointer;\n",
              "      display: none;\n",
              "      fill: #1967D2;\n",
              "      height: 32px;\n",
              "      padding: 0 0 0 0;\n",
              "      width: 32px;\n",
              "    }\n",
              "\n",
              "    .colab-df-convert:hover {\n",
              "      background-color: #E2EBFA;\n",
              "      box-shadow: 0px 1px 2px rgba(60, 64, 67, 0.3), 0px 1px 3px 1px rgba(60, 64, 67, 0.15);\n",
              "      fill: #174EA6;\n",
              "    }\n",
              "\n",
              "    .colab-df-buttons div {\n",
              "      margin-bottom: 4px;\n",
              "    }\n",
              "\n",
              "    [theme=dark] .colab-df-convert {\n",
              "      background-color: #3B4455;\n",
              "      fill: #D2E3FC;\n",
              "    }\n",
              "\n",
              "    [theme=dark] .colab-df-convert:hover {\n",
              "      background-color: #434B5C;\n",
              "      box-shadow: 0px 1px 3px 1px rgba(0, 0, 0, 0.15);\n",
              "      filter: drop-shadow(0px 1px 2px rgba(0, 0, 0, 0.3));\n",
              "      fill: #FFFFFF;\n",
              "    }\n",
              "  </style>\n",
              "\n",
              "    <script>\n",
              "      const buttonEl =\n",
              "        document.querySelector('#df-502f3630-8b91-4cf0-99a6-0c860621853b button.colab-df-convert');\n",
              "      buttonEl.style.display =\n",
              "        google.colab.kernel.accessAllowed ? 'block' : 'none';\n",
              "\n",
              "      async function convertToInteractive(key) {\n",
              "        const element = document.querySelector('#df-502f3630-8b91-4cf0-99a6-0c860621853b');\n",
              "        const dataTable =\n",
              "          await google.colab.kernel.invokeFunction('convertToInteractive',\n",
              "                                                    [key], {});\n",
              "        if (!dataTable) return;\n",
              "\n",
              "        const docLinkHtml = 'Like what you see? Visit the ' +\n",
              "          '<a target=\"_blank\" href=https://colab.research.google.com/notebooks/data_table.ipynb>data table notebook</a>'\n",
              "          + ' to learn more about interactive tables.';\n",
              "        element.innerHTML = '';\n",
              "        dataTable['output_type'] = 'display_data';\n",
              "        await google.colab.output.renderOutput(dataTable, element);\n",
              "        const docLink = document.createElement('div');\n",
              "        docLink.innerHTML = docLinkHtml;\n",
              "        element.appendChild(docLink);\n",
              "      }\n",
              "    </script>\n",
              "  </div>\n",
              "\n",
              "\n",
              "    <div id=\"df-40ed096d-fa82-407f-b3d1-1c7c04fc75df\">\n",
              "      <button class=\"colab-df-quickchart\" onclick=\"quickchart('df-40ed096d-fa82-407f-b3d1-1c7c04fc75df')\"\n",
              "                title=\"Suggest charts\"\n",
              "                style=\"display:none;\">\n",
              "\n",
              "<svg xmlns=\"http://www.w3.org/2000/svg\" height=\"24px\"viewBox=\"0 0 24 24\"\n",
              "     width=\"24px\">\n",
              "    <g>\n",
              "        <path d=\"M19 3H5c-1.1 0-2 .9-2 2v14c0 1.1.9 2 2 2h14c1.1 0 2-.9 2-2V5c0-1.1-.9-2-2-2zM9 17H7v-7h2v7zm4 0h-2V7h2v10zm4 0h-2v-4h2v4z\"/>\n",
              "    </g>\n",
              "</svg>\n",
              "      </button>\n",
              "\n",
              "<style>\n",
              "  .colab-df-quickchart {\n",
              "      --bg-color: #E8F0FE;\n",
              "      --fill-color: #1967D2;\n",
              "      --hover-bg-color: #E2EBFA;\n",
              "      --hover-fill-color: #174EA6;\n",
              "      --disabled-fill-color: #AAA;\n",
              "      --disabled-bg-color: #DDD;\n",
              "  }\n",
              "\n",
              "  [theme=dark] .colab-df-quickchart {\n",
              "      --bg-color: #3B4455;\n",
              "      --fill-color: #D2E3FC;\n",
              "      --hover-bg-color: #434B5C;\n",
              "      --hover-fill-color: #FFFFFF;\n",
              "      --disabled-bg-color: #3B4455;\n",
              "      --disabled-fill-color: #666;\n",
              "  }\n",
              "\n",
              "  .colab-df-quickchart {\n",
              "    background-color: var(--bg-color);\n",
              "    border: none;\n",
              "    border-radius: 50%;\n",
              "    cursor: pointer;\n",
              "    display: none;\n",
              "    fill: var(--fill-color);\n",
              "    height: 32px;\n",
              "    padding: 0;\n",
              "    width: 32px;\n",
              "  }\n",
              "\n",
              "  .colab-df-quickchart:hover {\n",
              "    background-color: var(--hover-bg-color);\n",
              "    box-shadow: 0 1px 2px rgba(60, 64, 67, 0.3), 0 1px 3px 1px rgba(60, 64, 67, 0.15);\n",
              "    fill: var(--button-hover-fill-color);\n",
              "  }\n",
              "\n",
              "  .colab-df-quickchart-complete:disabled,\n",
              "  .colab-df-quickchart-complete:disabled:hover {\n",
              "    background-color: var(--disabled-bg-color);\n",
              "    fill: var(--disabled-fill-color);\n",
              "    box-shadow: none;\n",
              "  }\n",
              "\n",
              "  .colab-df-spinner {\n",
              "    border: 2px solid var(--fill-color);\n",
              "    border-color: transparent;\n",
              "    border-bottom-color: var(--fill-color);\n",
              "    animation:\n",
              "      spin 1s steps(1) infinite;\n",
              "  }\n",
              "\n",
              "  @keyframes spin {\n",
              "    0% {\n",
              "      border-color: transparent;\n",
              "      border-bottom-color: var(--fill-color);\n",
              "      border-left-color: var(--fill-color);\n",
              "    }\n",
              "    20% {\n",
              "      border-color: transparent;\n",
              "      border-left-color: var(--fill-color);\n",
              "      border-top-color: var(--fill-color);\n",
              "    }\n",
              "    30% {\n",
              "      border-color: transparent;\n",
              "      border-left-color: var(--fill-color);\n",
              "      border-top-color: var(--fill-color);\n",
              "      border-right-color: var(--fill-color);\n",
              "    }\n",
              "    40% {\n",
              "      border-color: transparent;\n",
              "      border-right-color: var(--fill-color);\n",
              "      border-top-color: var(--fill-color);\n",
              "    }\n",
              "    60% {\n",
              "      border-color: transparent;\n",
              "      border-right-color: var(--fill-color);\n",
              "    }\n",
              "    80% {\n",
              "      border-color: transparent;\n",
              "      border-right-color: var(--fill-color);\n",
              "      border-bottom-color: var(--fill-color);\n",
              "    }\n",
              "    90% {\n",
              "      border-color: transparent;\n",
              "      border-bottom-color: var(--fill-color);\n",
              "    }\n",
              "  }\n",
              "</style>\n",
              "\n",
              "      <script>\n",
              "        async function quickchart(key) {\n",
              "          const quickchartButtonEl =\n",
              "            document.querySelector('#' + key + ' button');\n",
              "          quickchartButtonEl.disabled = true;  // To prevent multiple clicks.\n",
              "          quickchartButtonEl.classList.add('colab-df-spinner');\n",
              "          try {\n",
              "            const charts = await google.colab.kernel.invokeFunction(\n",
              "                'suggestCharts', [key], {});\n",
              "          } catch (error) {\n",
              "            console.error('Error during call to suggestCharts:', error);\n",
              "          }\n",
              "          quickchartButtonEl.classList.remove('colab-df-spinner');\n",
              "          quickchartButtonEl.classList.add('colab-df-quickchart-complete');\n",
              "        }\n",
              "        (() => {\n",
              "          let quickchartButtonEl =\n",
              "            document.querySelector('#df-40ed096d-fa82-407f-b3d1-1c7c04fc75df button');\n",
              "          quickchartButtonEl.style.display =\n",
              "            google.colab.kernel.accessAllowed ? 'block' : 'none';\n",
              "        })();\n",
              "      </script>\n",
              "    </div>\n",
              "\n",
              "    </div>\n",
              "  </div>\n"
            ],
            "application/vnd.google.colaboratory.intrinsic+json": {
              "type": "dataframe",
              "summary": "{\n  \"name\": \"df_synthetic_sorted[['Task ID', 'Assignee', 'Balanced Assignee', 'Priority', 'Deadline']]\",\n  \"rows\": 10,\n  \"fields\": [\n    {\n      \"column\": \"Task ID\",\n      \"properties\": {\n        \"dtype\": \"number\",\n        \"std\": 31,\n        \"min\": 2,\n        \"max\": 96,\n        \"num_unique_values\": 10,\n        \"samples\": [\n          96,\n          16,\n          44\n        ],\n        \"semantic_type\": \"\",\n        \"description\": \"\"\n      }\n    },\n    {\n      \"column\": \"Assignee\",\n      \"properties\": {\n        \"dtype\": \"category\",\n        \"num_unique_values\": 4,\n        \"samples\": [\n          \"User4\",\n          \"User3\",\n          \"User2\"\n        ],\n        \"semantic_type\": \"\",\n        \"description\": \"\"\n      }\n    },\n    {\n      \"column\": \"Balanced Assignee\",\n      \"properties\": {\n        \"dtype\": \"category\",\n        \"num_unique_values\": 4,\n        \"samples\": [\n          \"User4\",\n          \"User2\",\n          \"User1\"\n        ],\n        \"semantic_type\": \"\",\n        \"description\": \"\"\n      }\n    },\n    {\n      \"column\": \"Priority\",\n      \"properties\": {\n        \"dtype\": \"category\",\n        \"num_unique_values\": 1,\n        \"samples\": [\n          \"High\"\n        ],\n        \"semantic_type\": \"\",\n        \"description\": \"\"\n      }\n    },\n    {\n      \"column\": \"Deadline\",\n      \"properties\": {\n        \"dtype\": \"date\",\n        \"min\": \"2024-12-08 05:31:39\",\n        \"max\": \"2025-04-05 05:31:39\",\n        \"num_unique_values\": 8,\n        \"samples\": [\n          \"2025-01-12 05:31:39\"\n        ],\n        \"semantic_type\": \"\",\n        \"description\": \"\"\n      }\n    }\n  ]\n}"
            }
          },
          "metadata": {},
          "execution_count": 24
        }
      ]
    },
    {
      "cell_type": "markdown",
      "source": [
        "Hyperparameter Tuning with GridSearchCV\n"
      ],
      "metadata": {
        "id": "sga2YuHa8fCo"
      }
    },
    {
      "cell_type": "markdown",
      "source": [
        "To improve model performance, we apply GridSearchCV on a Random Forest classifier. It tests multiple combinations of parameters and selects the best-performing model using cross-validation.\n"
      ],
      "metadata": {
        "id": "2XdO6nAy8j8p"
      }
    },
    {
      "cell_type": "code",
      "source": [
        "# --- Apply GridSearchCV for hyperparameter tuning ---\n",
        "from sklearn.model_selection import GridSearchCV\n",
        "# Define the parameter grid to search\n",
        "param_grid = {\n",
        "    'n_estimators': [50, 100, 150],\n",
        "    'max_depth': [None, 10, 20],\n",
        "    'min_samples_split': [2, 5],\n",
        "    'min_samples_leaf': [1, 2]\n",
        "}\n",
        "\n",
        "# use RandomForestClassifier\n",
        "model = RandomForestClassifier(random_state=42)\n",
        "\n",
        "# Initialize GridSearchCV\n",
        "grid_search = GridSearchCV(\n",
        "    estimator=model,\n",
        "    param_grid=param_grid,\n",
        "    cv=5,\n",
        "    scoring='accuracy',\n",
        "    n_jobs=-1,\n",
        "    verbose=1\n",
        ")\n",
        "# Perform the grid search on  data\n",
        "grid_search.fit(X, y)"
      ],
      "metadata": {
        "colab": {
          "base_uri": "https://localhost:8080/",
          "height": 183
        },
        "id": "19dSVw-88ErD",
        "outputId": "8cb67ab4-d1a8-4de7-c795-6bca5fc5c838"
      },
      "execution_count": 25,
      "outputs": [
        {
          "output_type": "stream",
          "name": "stdout",
          "text": [
            "Fitting 5 folds for each of 36 candidates, totalling 180 fits\n"
          ]
        },
        {
          "output_type": "execute_result",
          "data": {
            "text/plain": [
              "GridSearchCV(cv=5, estimator=RandomForestClassifier(random_state=42), n_jobs=-1,\n",
              "             param_grid={'max_depth': [None, 10, 20],\n",
              "                         'min_samples_leaf': [1, 2],\n",
              "                         'min_samples_split': [2, 5],\n",
              "                         'n_estimators': [50, 100, 150]},\n",
              "             scoring='accuracy', verbose=1)"
            ],
            "text/html": [
              "<style>#sk-container-id-1 {\n",
              "  /* Definition of color scheme common for light and dark mode */\n",
              "  --sklearn-color-text: #000;\n",
              "  --sklearn-color-text-muted: #666;\n",
              "  --sklearn-color-line: gray;\n",
              "  /* Definition of color scheme for unfitted estimators */\n",
              "  --sklearn-color-unfitted-level-0: #fff5e6;\n",
              "  --sklearn-color-unfitted-level-1: #f6e4d2;\n",
              "  --sklearn-color-unfitted-level-2: #ffe0b3;\n",
              "  --sklearn-color-unfitted-level-3: chocolate;\n",
              "  /* Definition of color scheme for fitted estimators */\n",
              "  --sklearn-color-fitted-level-0: #f0f8ff;\n",
              "  --sklearn-color-fitted-level-1: #d4ebff;\n",
              "  --sklearn-color-fitted-level-2: #b3dbfd;\n",
              "  --sklearn-color-fitted-level-3: cornflowerblue;\n",
              "\n",
              "  /* Specific color for light theme */\n",
              "  --sklearn-color-text-on-default-background: var(--sg-text-color, var(--theme-code-foreground, var(--jp-content-font-color1, black)));\n",
              "  --sklearn-color-background: var(--sg-background-color, var(--theme-background, var(--jp-layout-color0, white)));\n",
              "  --sklearn-color-border-box: var(--sg-text-color, var(--theme-code-foreground, var(--jp-content-font-color1, black)));\n",
              "  --sklearn-color-icon: #696969;\n",
              "\n",
              "  @media (prefers-color-scheme: dark) {\n",
              "    /* Redefinition of color scheme for dark theme */\n",
              "    --sklearn-color-text-on-default-background: var(--sg-text-color, var(--theme-code-foreground, var(--jp-content-font-color1, white)));\n",
              "    --sklearn-color-background: var(--sg-background-color, var(--theme-background, var(--jp-layout-color0, #111)));\n",
              "    --sklearn-color-border-box: var(--sg-text-color, var(--theme-code-foreground, var(--jp-content-font-color1, white)));\n",
              "    --sklearn-color-icon: #878787;\n",
              "  }\n",
              "}\n",
              "\n",
              "#sk-container-id-1 {\n",
              "  color: var(--sklearn-color-text);\n",
              "}\n",
              "\n",
              "#sk-container-id-1 pre {\n",
              "  padding: 0;\n",
              "}\n",
              "\n",
              "#sk-container-id-1 input.sk-hidden--visually {\n",
              "  border: 0;\n",
              "  clip: rect(1px 1px 1px 1px);\n",
              "  clip: rect(1px, 1px, 1px, 1px);\n",
              "  height: 1px;\n",
              "  margin: -1px;\n",
              "  overflow: hidden;\n",
              "  padding: 0;\n",
              "  position: absolute;\n",
              "  width: 1px;\n",
              "}\n",
              "\n",
              "#sk-container-id-1 div.sk-dashed-wrapped {\n",
              "  border: 1px dashed var(--sklearn-color-line);\n",
              "  margin: 0 0.4em 0.5em 0.4em;\n",
              "  box-sizing: border-box;\n",
              "  padding-bottom: 0.4em;\n",
              "  background-color: var(--sklearn-color-background);\n",
              "}\n",
              "\n",
              "#sk-container-id-1 div.sk-container {\n",
              "  /* jupyter's `normalize.less` sets `[hidden] { display: none; }`\n",
              "     but bootstrap.min.css set `[hidden] { display: none !important; }`\n",
              "     so we also need the `!important` here to be able to override the\n",
              "     default hidden behavior on the sphinx rendered scikit-learn.org.\n",
              "     See: https://github.com/scikit-learn/scikit-learn/issues/21755 */\n",
              "  display: inline-block !important;\n",
              "  position: relative;\n",
              "}\n",
              "\n",
              "#sk-container-id-1 div.sk-text-repr-fallback {\n",
              "  display: none;\n",
              "}\n",
              "\n",
              "div.sk-parallel-item,\n",
              "div.sk-serial,\n",
              "div.sk-item {\n",
              "  /* draw centered vertical line to link estimators */\n",
              "  background-image: linear-gradient(var(--sklearn-color-text-on-default-background), var(--sklearn-color-text-on-default-background));\n",
              "  background-size: 2px 100%;\n",
              "  background-repeat: no-repeat;\n",
              "  background-position: center center;\n",
              "}\n",
              "\n",
              "/* Parallel-specific style estimator block */\n",
              "\n",
              "#sk-container-id-1 div.sk-parallel-item::after {\n",
              "  content: \"\";\n",
              "  width: 100%;\n",
              "  border-bottom: 2px solid var(--sklearn-color-text-on-default-background);\n",
              "  flex-grow: 1;\n",
              "}\n",
              "\n",
              "#sk-container-id-1 div.sk-parallel {\n",
              "  display: flex;\n",
              "  align-items: stretch;\n",
              "  justify-content: center;\n",
              "  background-color: var(--sklearn-color-background);\n",
              "  position: relative;\n",
              "}\n",
              "\n",
              "#sk-container-id-1 div.sk-parallel-item {\n",
              "  display: flex;\n",
              "  flex-direction: column;\n",
              "}\n",
              "\n",
              "#sk-container-id-1 div.sk-parallel-item:first-child::after {\n",
              "  align-self: flex-end;\n",
              "  width: 50%;\n",
              "}\n",
              "\n",
              "#sk-container-id-1 div.sk-parallel-item:last-child::after {\n",
              "  align-self: flex-start;\n",
              "  width: 50%;\n",
              "}\n",
              "\n",
              "#sk-container-id-1 div.sk-parallel-item:only-child::after {\n",
              "  width: 0;\n",
              "}\n",
              "\n",
              "/* Serial-specific style estimator block */\n",
              "\n",
              "#sk-container-id-1 div.sk-serial {\n",
              "  display: flex;\n",
              "  flex-direction: column;\n",
              "  align-items: center;\n",
              "  background-color: var(--sklearn-color-background);\n",
              "  padding-right: 1em;\n",
              "  padding-left: 1em;\n",
              "}\n",
              "\n",
              "\n",
              "/* Toggleable style: style used for estimator/Pipeline/ColumnTransformer box that is\n",
              "clickable and can be expanded/collapsed.\n",
              "- Pipeline and ColumnTransformer use this feature and define the default style\n",
              "- Estimators will overwrite some part of the style using the `sk-estimator` class\n",
              "*/\n",
              "\n",
              "/* Pipeline and ColumnTransformer style (default) */\n",
              "\n",
              "#sk-container-id-1 div.sk-toggleable {\n",
              "  /* Default theme specific background. It is overwritten whether we have a\n",
              "  specific estimator or a Pipeline/ColumnTransformer */\n",
              "  background-color: var(--sklearn-color-background);\n",
              "}\n",
              "\n",
              "/* Toggleable label */\n",
              "#sk-container-id-1 label.sk-toggleable__label {\n",
              "  cursor: pointer;\n",
              "  display: flex;\n",
              "  width: 100%;\n",
              "  margin-bottom: 0;\n",
              "  padding: 0.5em;\n",
              "  box-sizing: border-box;\n",
              "  text-align: center;\n",
              "  align-items: start;\n",
              "  justify-content: space-between;\n",
              "  gap: 0.5em;\n",
              "}\n",
              "\n",
              "#sk-container-id-1 label.sk-toggleable__label .caption {\n",
              "  font-size: 0.6rem;\n",
              "  font-weight: lighter;\n",
              "  color: var(--sklearn-color-text-muted);\n",
              "}\n",
              "\n",
              "#sk-container-id-1 label.sk-toggleable__label-arrow:before {\n",
              "  /* Arrow on the left of the label */\n",
              "  content: \"▸\";\n",
              "  float: left;\n",
              "  margin-right: 0.25em;\n",
              "  color: var(--sklearn-color-icon);\n",
              "}\n",
              "\n",
              "#sk-container-id-1 label.sk-toggleable__label-arrow:hover:before {\n",
              "  color: var(--sklearn-color-text);\n",
              "}\n",
              "\n",
              "/* Toggleable content - dropdown */\n",
              "\n",
              "#sk-container-id-1 div.sk-toggleable__content {\n",
              "  max-height: 0;\n",
              "  max-width: 0;\n",
              "  overflow: hidden;\n",
              "  text-align: left;\n",
              "  /* unfitted */\n",
              "  background-color: var(--sklearn-color-unfitted-level-0);\n",
              "}\n",
              "\n",
              "#sk-container-id-1 div.sk-toggleable__content.fitted {\n",
              "  /* fitted */\n",
              "  background-color: var(--sklearn-color-fitted-level-0);\n",
              "}\n",
              "\n",
              "#sk-container-id-1 div.sk-toggleable__content pre {\n",
              "  margin: 0.2em;\n",
              "  border-radius: 0.25em;\n",
              "  color: var(--sklearn-color-text);\n",
              "  /* unfitted */\n",
              "  background-color: var(--sklearn-color-unfitted-level-0);\n",
              "}\n",
              "\n",
              "#sk-container-id-1 div.sk-toggleable__content.fitted pre {\n",
              "  /* unfitted */\n",
              "  background-color: var(--sklearn-color-fitted-level-0);\n",
              "}\n",
              "\n",
              "#sk-container-id-1 input.sk-toggleable__control:checked~div.sk-toggleable__content {\n",
              "  /* Expand drop-down */\n",
              "  max-height: 200px;\n",
              "  max-width: 100%;\n",
              "  overflow: auto;\n",
              "}\n",
              "\n",
              "#sk-container-id-1 input.sk-toggleable__control:checked~label.sk-toggleable__label-arrow:before {\n",
              "  content: \"▾\";\n",
              "}\n",
              "\n",
              "/* Pipeline/ColumnTransformer-specific style */\n",
              "\n",
              "#sk-container-id-1 div.sk-label input.sk-toggleable__control:checked~label.sk-toggleable__label {\n",
              "  color: var(--sklearn-color-text);\n",
              "  background-color: var(--sklearn-color-unfitted-level-2);\n",
              "}\n",
              "\n",
              "#sk-container-id-1 div.sk-label.fitted input.sk-toggleable__control:checked~label.sk-toggleable__label {\n",
              "  background-color: var(--sklearn-color-fitted-level-2);\n",
              "}\n",
              "\n",
              "/* Estimator-specific style */\n",
              "\n",
              "/* Colorize estimator box */\n",
              "#sk-container-id-1 div.sk-estimator input.sk-toggleable__control:checked~label.sk-toggleable__label {\n",
              "  /* unfitted */\n",
              "  background-color: var(--sklearn-color-unfitted-level-2);\n",
              "}\n",
              "\n",
              "#sk-container-id-1 div.sk-estimator.fitted input.sk-toggleable__control:checked~label.sk-toggleable__label {\n",
              "  /* fitted */\n",
              "  background-color: var(--sklearn-color-fitted-level-2);\n",
              "}\n",
              "\n",
              "#sk-container-id-1 div.sk-label label.sk-toggleable__label,\n",
              "#sk-container-id-1 div.sk-label label {\n",
              "  /* The background is the default theme color */\n",
              "  color: var(--sklearn-color-text-on-default-background);\n",
              "}\n",
              "\n",
              "/* On hover, darken the color of the background */\n",
              "#sk-container-id-1 div.sk-label:hover label.sk-toggleable__label {\n",
              "  color: var(--sklearn-color-text);\n",
              "  background-color: var(--sklearn-color-unfitted-level-2);\n",
              "}\n",
              "\n",
              "/* Label box, darken color on hover, fitted */\n",
              "#sk-container-id-1 div.sk-label.fitted:hover label.sk-toggleable__label.fitted {\n",
              "  color: var(--sklearn-color-text);\n",
              "  background-color: var(--sklearn-color-fitted-level-2);\n",
              "}\n",
              "\n",
              "/* Estimator label */\n",
              "\n",
              "#sk-container-id-1 div.sk-label label {\n",
              "  font-family: monospace;\n",
              "  font-weight: bold;\n",
              "  display: inline-block;\n",
              "  line-height: 1.2em;\n",
              "}\n",
              "\n",
              "#sk-container-id-1 div.sk-label-container {\n",
              "  text-align: center;\n",
              "}\n",
              "\n",
              "/* Estimator-specific */\n",
              "#sk-container-id-1 div.sk-estimator {\n",
              "  font-family: monospace;\n",
              "  border: 1px dotted var(--sklearn-color-border-box);\n",
              "  border-radius: 0.25em;\n",
              "  box-sizing: border-box;\n",
              "  margin-bottom: 0.5em;\n",
              "  /* unfitted */\n",
              "  background-color: var(--sklearn-color-unfitted-level-0);\n",
              "}\n",
              "\n",
              "#sk-container-id-1 div.sk-estimator.fitted {\n",
              "  /* fitted */\n",
              "  background-color: var(--sklearn-color-fitted-level-0);\n",
              "}\n",
              "\n",
              "/* on hover */\n",
              "#sk-container-id-1 div.sk-estimator:hover {\n",
              "  /* unfitted */\n",
              "  background-color: var(--sklearn-color-unfitted-level-2);\n",
              "}\n",
              "\n",
              "#sk-container-id-1 div.sk-estimator.fitted:hover {\n",
              "  /* fitted */\n",
              "  background-color: var(--sklearn-color-fitted-level-2);\n",
              "}\n",
              "\n",
              "/* Specification for estimator info (e.g. \"i\" and \"?\") */\n",
              "\n",
              "/* Common style for \"i\" and \"?\" */\n",
              "\n",
              ".sk-estimator-doc-link,\n",
              "a:link.sk-estimator-doc-link,\n",
              "a:visited.sk-estimator-doc-link {\n",
              "  float: right;\n",
              "  font-size: smaller;\n",
              "  line-height: 1em;\n",
              "  font-family: monospace;\n",
              "  background-color: var(--sklearn-color-background);\n",
              "  border-radius: 1em;\n",
              "  height: 1em;\n",
              "  width: 1em;\n",
              "  text-decoration: none !important;\n",
              "  margin-left: 0.5em;\n",
              "  text-align: center;\n",
              "  /* unfitted */\n",
              "  border: var(--sklearn-color-unfitted-level-1) 1pt solid;\n",
              "  color: var(--sklearn-color-unfitted-level-1);\n",
              "}\n",
              "\n",
              ".sk-estimator-doc-link.fitted,\n",
              "a:link.sk-estimator-doc-link.fitted,\n",
              "a:visited.sk-estimator-doc-link.fitted {\n",
              "  /* fitted */\n",
              "  border: var(--sklearn-color-fitted-level-1) 1pt solid;\n",
              "  color: var(--sklearn-color-fitted-level-1);\n",
              "}\n",
              "\n",
              "/* On hover */\n",
              "div.sk-estimator:hover .sk-estimator-doc-link:hover,\n",
              ".sk-estimator-doc-link:hover,\n",
              "div.sk-label-container:hover .sk-estimator-doc-link:hover,\n",
              ".sk-estimator-doc-link:hover {\n",
              "  /* unfitted */\n",
              "  background-color: var(--sklearn-color-unfitted-level-3);\n",
              "  color: var(--sklearn-color-background);\n",
              "  text-decoration: none;\n",
              "}\n",
              "\n",
              "div.sk-estimator.fitted:hover .sk-estimator-doc-link.fitted:hover,\n",
              ".sk-estimator-doc-link.fitted:hover,\n",
              "div.sk-label-container:hover .sk-estimator-doc-link.fitted:hover,\n",
              ".sk-estimator-doc-link.fitted:hover {\n",
              "  /* fitted */\n",
              "  background-color: var(--sklearn-color-fitted-level-3);\n",
              "  color: var(--sklearn-color-background);\n",
              "  text-decoration: none;\n",
              "}\n",
              "\n",
              "/* Span, style for the box shown on hovering the info icon */\n",
              ".sk-estimator-doc-link span {\n",
              "  display: none;\n",
              "  z-index: 9999;\n",
              "  position: relative;\n",
              "  font-weight: normal;\n",
              "  right: .2ex;\n",
              "  padding: .5ex;\n",
              "  margin: .5ex;\n",
              "  width: min-content;\n",
              "  min-width: 20ex;\n",
              "  max-width: 50ex;\n",
              "  color: var(--sklearn-color-text);\n",
              "  box-shadow: 2pt 2pt 4pt #999;\n",
              "  /* unfitted */\n",
              "  background: var(--sklearn-color-unfitted-level-0);\n",
              "  border: .5pt solid var(--sklearn-color-unfitted-level-3);\n",
              "}\n",
              "\n",
              ".sk-estimator-doc-link.fitted span {\n",
              "  /* fitted */\n",
              "  background: var(--sklearn-color-fitted-level-0);\n",
              "  border: var(--sklearn-color-fitted-level-3);\n",
              "}\n",
              "\n",
              ".sk-estimator-doc-link:hover span {\n",
              "  display: block;\n",
              "}\n",
              "\n",
              "/* \"?\"-specific style due to the `<a>` HTML tag */\n",
              "\n",
              "#sk-container-id-1 a.estimator_doc_link {\n",
              "  float: right;\n",
              "  font-size: 1rem;\n",
              "  line-height: 1em;\n",
              "  font-family: monospace;\n",
              "  background-color: var(--sklearn-color-background);\n",
              "  border-radius: 1rem;\n",
              "  height: 1rem;\n",
              "  width: 1rem;\n",
              "  text-decoration: none;\n",
              "  /* unfitted */\n",
              "  color: var(--sklearn-color-unfitted-level-1);\n",
              "  border: var(--sklearn-color-unfitted-level-1) 1pt solid;\n",
              "}\n",
              "\n",
              "#sk-container-id-1 a.estimator_doc_link.fitted {\n",
              "  /* fitted */\n",
              "  border: var(--sklearn-color-fitted-level-1) 1pt solid;\n",
              "  color: var(--sklearn-color-fitted-level-1);\n",
              "}\n",
              "\n",
              "/* On hover */\n",
              "#sk-container-id-1 a.estimator_doc_link:hover {\n",
              "  /* unfitted */\n",
              "  background-color: var(--sklearn-color-unfitted-level-3);\n",
              "  color: var(--sklearn-color-background);\n",
              "  text-decoration: none;\n",
              "}\n",
              "\n",
              "#sk-container-id-1 a.estimator_doc_link.fitted:hover {\n",
              "  /* fitted */\n",
              "  background-color: var(--sklearn-color-fitted-level-3);\n",
              "}\n",
              "</style><div id=\"sk-container-id-1\" class=\"sk-top-container\"><div class=\"sk-text-repr-fallback\"><pre>GridSearchCV(cv=5, estimator=RandomForestClassifier(random_state=42), n_jobs=-1,\n",
              "             param_grid={&#x27;max_depth&#x27;: [None, 10, 20],\n",
              "                         &#x27;min_samples_leaf&#x27;: [1, 2],\n",
              "                         &#x27;min_samples_split&#x27;: [2, 5],\n",
              "                         &#x27;n_estimators&#x27;: [50, 100, 150]},\n",
              "             scoring=&#x27;accuracy&#x27;, verbose=1)</pre><b>In a Jupyter environment, please rerun this cell to show the HTML representation or trust the notebook. <br />On GitHub, the HTML representation is unable to render, please try loading this page with nbviewer.org.</b></div><div class=\"sk-container\" hidden><div class=\"sk-item sk-dashed-wrapped\"><div class=\"sk-label-container\"><div class=\"sk-label fitted sk-toggleable\"><input class=\"sk-toggleable__control sk-hidden--visually\" id=\"sk-estimator-id-1\" type=\"checkbox\" ><label for=\"sk-estimator-id-1\" class=\"sk-toggleable__label fitted sk-toggleable__label-arrow\"><div><div>GridSearchCV</div></div><div><a class=\"sk-estimator-doc-link fitted\" rel=\"noreferrer\" target=\"_blank\" href=\"https://scikit-learn.org/1.6/modules/generated/sklearn.model_selection.GridSearchCV.html\">?<span>Documentation for GridSearchCV</span></a><span class=\"sk-estimator-doc-link fitted\">i<span>Fitted</span></span></div></label><div class=\"sk-toggleable__content fitted\"><pre>GridSearchCV(cv=5, estimator=RandomForestClassifier(random_state=42), n_jobs=-1,\n",
              "             param_grid={&#x27;max_depth&#x27;: [None, 10, 20],\n",
              "                         &#x27;min_samples_leaf&#x27;: [1, 2],\n",
              "                         &#x27;min_samples_split&#x27;: [2, 5],\n",
              "                         &#x27;n_estimators&#x27;: [50, 100, 150]},\n",
              "             scoring=&#x27;accuracy&#x27;, verbose=1)</pre></div> </div></div><div class=\"sk-parallel\"><div class=\"sk-parallel-item\"><div class=\"sk-item\"><div class=\"sk-label-container\"><div class=\"sk-label fitted sk-toggleable\"><input class=\"sk-toggleable__control sk-hidden--visually\" id=\"sk-estimator-id-2\" type=\"checkbox\" ><label for=\"sk-estimator-id-2\" class=\"sk-toggleable__label fitted sk-toggleable__label-arrow\"><div><div>best_estimator_: RandomForestClassifier</div></div></label><div class=\"sk-toggleable__content fitted\"><pre>RandomForestClassifier(max_depth=10, n_estimators=150, random_state=42)</pre></div> </div></div><div class=\"sk-serial\"><div class=\"sk-item\"><div class=\"sk-estimator fitted sk-toggleable\"><input class=\"sk-toggleable__control sk-hidden--visually\" id=\"sk-estimator-id-3\" type=\"checkbox\" ><label for=\"sk-estimator-id-3\" class=\"sk-toggleable__label fitted sk-toggleable__label-arrow\"><div><div>RandomForestClassifier</div></div><div><a class=\"sk-estimator-doc-link fitted\" rel=\"noreferrer\" target=\"_blank\" href=\"https://scikit-learn.org/1.6/modules/generated/sklearn.ensemble.RandomForestClassifier.html\">?<span>Documentation for RandomForestClassifier</span></a></div></label><div class=\"sk-toggleable__content fitted\"><pre>RandomForestClassifier(max_depth=10, n_estimators=150, random_state=42)</pre></div> </div></div></div></div></div></div></div></div></div>"
            ]
          },
          "metadata": {},
          "execution_count": 25
        }
      ]
    },
    {
      "cell_type": "code",
      "source": [
        "df_synthetic.to_csv('synthetic_tasks.csv', index=False)\n",
        "print(\"✅ Data saved to 'synthetic_tasks.csv'\")"
      ],
      "metadata": {
        "id": "_jI2nb2TQoLV",
        "colab": {
          "base_uri": "https://localhost:8080/"
        },
        "outputId": "0afdd069-3176-473b-9cce-2fb0c89cec8c"
      },
      "execution_count": 26,
      "outputs": [
        {
          "output_type": "stream",
          "name": "stdout",
          "text": [
            "✅ Data saved to 'synthetic_tasks.csv'\n"
          ]
        }
      ]
    },
    {
      "cell_type": "code",
      "source": [
        "import joblib\n",
        "\n",
        "# Get best model from grid search\n",
        "priority_model = grid_search.best_estimator_\n",
        "\n",
        "# Save the trained model to file in main directory\n",
        "joblib.dump(priority_model, 'priority_model.pkl')\n",
        "\n",
        "# Save the preprocessor (ColumnTransformer) as well\n",
        "joblib.dump(preprocessor, 'preprocessor.pkl')\n",
        "\n",
        "print(\"✅ Model and preprocessor saved to main directory\")\n",
        "\n"
      ],
      "metadata": {
        "colab": {
          "base_uri": "https://localhost:8080/"
        },
        "id": "rDCjaj3D7eme",
        "outputId": "612a159e-4877-4213-a3cf-338ac7cc84da"
      },
      "execution_count": 28,
      "outputs": [
        {
          "output_type": "stream",
          "name": "stdout",
          "text": [
            "✅ Model and preprocessor saved to main directory\n"
          ]
        }
      ]
    },
    {
      "cell_type": "code",
      "source": [
        "df_synthetic.to_csv('tasks.csv', index=False)\n"
      ],
      "metadata": {
        "id": "nw3Ljpd67i4A"
      },
      "execution_count": 29,
      "outputs": []
    },
    {
      "cell_type": "code",
      "source": [
        "print(preprocessor.get_feature_names_out())\n"
      ],
      "metadata": {
        "colab": {
          "base_uri": "https://localhost:8080/"
        },
        "id": "cErwLJvw8Yeo",
        "outputId": "f5bdc6e0-6c54-4e50-b8df-0a6658be88ee"
      },
      "execution_count": 30,
      "outputs": [
        {
          "output_type": "stream",
          "name": "stdout",
          "text": [
            "['cat__Priority_High' 'cat__Priority_Low' 'cat__Priority_Medium'\n",
            " 'cat__Status_Completed' 'cat__Status_In Progress' 'cat__Status_To Do'\n",
            " 'num__Time Taken (hrs)' 'num__Days Until Deadline']\n"
          ]
        }
      ]
    },
    {
      "cell_type": "code",
      "source": [
        "import pandas as pd\n",
        "from sklearn.compose import ColumnTransformer\n",
        "from sklearn.preprocessing import OneHotEncoder\n",
        "from sklearn.ensemble import RandomForestClassifier\n",
        "import joblib\n",
        "\n",
        "# Use your actual dataframe name\n",
        "feature_cols = ['Time Taken (hrs)', 'Status', 'Days Until Deadline']\n",
        "X = df_synthetic[feature_cols]\n",
        "y = df_synthetic['Priority']\n",
        "\n",
        "# Define preprocessor to encode categorical features only (exclude target)\n",
        "preprocessor = ColumnTransformer(\n",
        "    transformers=[\n",
        "        ('cat', OneHotEncoder(handle_unknown='ignore'), ['Status']),\n",
        "        ('num', 'passthrough', ['Time Taken (hrs)', 'Days Until Deadline'])\n",
        "    ])\n",
        "\n",
        "# Fit preprocessor on X\n",
        "X_processed = preprocessor.fit_transform(X)\n",
        "\n",
        "# Train model\n",
        "priority_model = RandomForestClassifier(random_state=42)\n",
        "priority_model.fit(X_processed, y)\n",
        "\n",
        "# Save preprocessor and model to main directory (no subfolders)\n",
        "joblib.dump(preprocessor, 'preprocessor.pkl')\n",
        "joblib.dump(priority_model, 'priority_model.pkl')\n",
        "\n",
        "print(\"Models saved successfully!\")\n"
      ],
      "metadata": {
        "colab": {
          "base_uri": "https://localhost:8080/"
        },
        "id": "208EAduwAxev",
        "outputId": "5a9ee79a-6cb3-4823-e815-91a2c252ac53"
      },
      "execution_count": 32,
      "outputs": [
        {
          "output_type": "stream",
          "name": "stdout",
          "text": [
            "Models saved successfully!\n"
          ]
        }
      ]
    },
    {
      "cell_type": "code",
      "source": [],
      "metadata": {
        "id": "ygeu8pgMBbde"
      },
      "execution_count": null,
      "outputs": []
    }
  ]
}